{
 "cells": [
  {
   "cell_type": "markdown",
   "metadata": {},
   "source": [
    "# Generic Exploratory Data Analysis Framework\n",
    "\n",
    "*Import any dataset and get a processed dataset without any null values, outliers or duplicates*\n",
    "\n",
    "\n",
    "\n",
    "\n",
    "\n",
    "***Some of the most used variables:***\n",
    "\n",
    "- data: Dataframe to store dataset\n",
    "- df: Dataframe of 'data' excluding object-based columns\n",
    "- obj_df: Dataframe of 'data' with only object-based columns\n",
    "- x: Dataframe with no 'id' attributes"
   ]
  },
  {
   "cell_type": "markdown",
   "metadata": {},
   "source": [
    "### Installing required packages"
   ]
  },
  {
   "cell_type": "code",
   "execution_count": 1,
   "metadata": {},
   "outputs": [],
   "source": [
    "#!pip install jovian --upgrade\n",
    "#!pip install jovian opendatasets --upgrade --quiet\n",
    "#!pip install -q kaggle"
   ]
  },
  {
   "cell_type": "markdown",
   "metadata": {},
   "source": [
    "### Importing required packages"
   ]
  },
  {
   "cell_type": "code",
   "execution_count": 2,
   "metadata": {},
   "outputs": [],
   "source": [
    "import pandas as pd\n",
    "import numpy as np\n",
    "import matplotlib\n",
    "import matplotlib.pyplot as plt\n",
    "import os\n",
    "import opendatasets as od\n",
    "import seaborn as sns\n",
    "%matplotlib inline"
   ]
  },
  {
   "cell_type": "code",
   "execution_count": 3,
   "metadata": {
    "scrolled": true
   },
   "outputs": [],
   "source": [
    "#python -m jovian clone nihitkr-chp/project1 \n",
    "#cd project1\n",
    "\n",
    "#conda create -n project1 jupyter \n",
    "\n",
    "#conda activate project1\n",
    "#jupyter notebook"
   ]
  },
  {
   "cell_type": "markdown",
   "metadata": {},
   "source": [
    "Creating a missing_values List:\n",
    "\n",
    "It is not necessary that a null cell is blank, sometimes a null cell can also have elements like -, --, N/a, etc. which is defined in the missing_values list. So, it will also be treated as a missing vales in the dataset."
   ]
  },
  {
   "cell_type": "code",
   "execution_count": 4,
   "metadata": {},
   "outputs": [],
   "source": [
    "# Array to declare all kinds of Null values\n",
    "missing_values= [\"N/a\",\"n/a\",\"N/A\",\"-\",\"--\",\"?\", np.nan] "
   ]
  },
  {
   "cell_type": "markdown",
   "metadata": {},
   "source": [
    "### Downloading a dataset from kaggle"
   ]
  },
  {
   "cell_type": "code",
   "execution_count": 6,
   "metadata": {},
   "outputs": [],
   "source": [
    "#dataset_url = 'https://www.kaggle.com/mirichoi0218/insurance' \n",
    "#if want to upload any other data from kaggle"
   ]
  },
  {
   "cell_type": "code",
   "execution_count": 7,
   "metadata": {},
   "outputs": [],
   "source": [
    "#od.download(dataset_url)"
   ]
  },
  {
   "cell_type": "code",
   "execution_count": 8,
   "metadata": {
    "scrolled": true
   },
   "outputs": [
    {
     "data": {
      "text/plain": [
       "['bike.csv',\n",
       " 'bike.xls',\n",
       " 'cancer.csv',\n",
       " 'Case.csv',\n",
       " 'Data.csv',\n",
       " 'fifa_eda.csv',\n",
       " 'hotel_bookings.csv',\n",
       " 'insurance.csv',\n",
       " 'Iris.csv',\n",
       " 'Region.csv',\n",
       " 'SeoulFloating.csv',\n",
       " 'toy_dataset.csv',\n",
       " 'train.csv',\n",
       " 'Weather.csv',\n",
       " 'well_log.csv']"
      ]
     },
     "execution_count": 8,
     "metadata": {},
     "output_type": "execute_result"
    }
   ],
   "source": [
    "data_dir = './datasets' #if any other data is downloaded from internet, mention its directory\n",
    "filename = os.listdir(data_dir)\n",
    "filename"
   ]
  },
  {
   "cell_type": "code",
   "execution_count": 9,
   "metadata": {},
   "outputs": [
    {
     "name": "stdout",
     "output_type": "stream",
     "text": [
      "File type is .csv\n"
     ]
    },
    {
     "data": {
      "text/html": [
       "<div>\n",
       "<style scoped>\n",
       "    .dataframe tbody tr th:only-of-type {\n",
       "        vertical-align: middle;\n",
       "    }\n",
       "\n",
       "    .dataframe tbody tr th {\n",
       "        vertical-align: top;\n",
       "    }\n",
       "\n",
       "    .dataframe thead th {\n",
       "        text-align: right;\n",
       "    }\n",
       "</style>\n",
       "<table border=\"1\" class=\"dataframe\">\n",
       "  <thead>\n",
       "    <tr style=\"text-align: right;\">\n",
       "      <th></th>\n",
       "      <th>Country</th>\n",
       "      <th>Age</th>\n",
       "      <th>Current Salary</th>\n",
       "      <th>Starting Salary</th>\n",
       "      <th>Annual Package</th>\n",
       "      <th>Married</th>\n",
       "    </tr>\n",
       "  </thead>\n",
       "  <tbody>\n",
       "    <tr>\n",
       "      <th>0</th>\n",
       "      <td>France</td>\n",
       "      <td>45.0</td>\n",
       "      <td>56000.0</td>\n",
       "      <td>20000.0</td>\n",
       "      <td>692000.0</td>\n",
       "      <td>Yes</td>\n",
       "    </tr>\n",
       "    <tr>\n",
       "      <th>1</th>\n",
       "      <td>Spain</td>\n",
       "      <td>26.0</td>\n",
       "      <td>26000.0</td>\n",
       "      <td>10000.0</td>\n",
       "      <td>322000.0</td>\n",
       "      <td>No</td>\n",
       "    </tr>\n",
       "    <tr>\n",
       "      <th>2</th>\n",
       "      <td>Germany</td>\n",
       "      <td>26.0</td>\n",
       "      <td>25000.0</td>\n",
       "      <td>10000.0</td>\n",
       "      <td>310000.0</td>\n",
       "      <td>Yes</td>\n",
       "    </tr>\n",
       "    <tr>\n",
       "      <th>3</th>\n",
       "      <td>Spain</td>\n",
       "      <td>26.0</td>\n",
       "      <td>NaN</td>\n",
       "      <td>10000.0</td>\n",
       "      <td>790000.0</td>\n",
       "      <td>No</td>\n",
       "    </tr>\n",
       "    <tr>\n",
       "      <th>4</th>\n",
       "      <td>Germany</td>\n",
       "      <td>45.0</td>\n",
       "      <td>35000.0</td>\n",
       "      <td>10000.0</td>\n",
       "      <td>430000.0</td>\n",
       "      <td>No</td>\n",
       "    </tr>\n",
       "    <tr>\n",
       "      <th>5</th>\n",
       "      <td>France</td>\n",
       "      <td>59.0</td>\n",
       "      <td>9300.0</td>\n",
       "      <td>15000.0</td>\n",
       "      <td>16116.0</td>\n",
       "      <td>No</td>\n",
       "    </tr>\n",
       "    <tr>\n",
       "      <th>6</th>\n",
       "      <td>Spain</td>\n",
       "      <td>NaN</td>\n",
       "      <td>56000.0</td>\n",
       "      <td>10000.0</td>\n",
       "      <td>682000.0</td>\n",
       "      <td>Yes</td>\n",
       "    </tr>\n",
       "    <tr>\n",
       "      <th>7</th>\n",
       "      <td>France</td>\n",
       "      <td>45.0</td>\n",
       "      <td>42000.0</td>\n",
       "      <td>20000.0</td>\n",
       "      <td>NaN</td>\n",
       "      <td>Yes</td>\n",
       "    </tr>\n",
       "    <tr>\n",
       "      <th>8</th>\n",
       "      <td>Germany</td>\n",
       "      <td>25.0</td>\n",
       "      <td>650000.0</td>\n",
       "      <td>30000.0</td>\n",
       "      <td>7830000.0</td>\n",
       "      <td>No</td>\n",
       "    </tr>\n",
       "    <tr>\n",
       "      <th>9</th>\n",
       "      <td>France</td>\n",
       "      <td>54.0</td>\n",
       "      <td>NaN</td>\n",
       "      <td>10000.0</td>\n",
       "      <td>442000.0</td>\n",
       "      <td>Yes</td>\n",
       "    </tr>\n",
       "    <tr>\n",
       "      <th>10</th>\n",
       "      <td>Germany</td>\n",
       "      <td>25.0</td>\n",
       "      <td>65000.0</td>\n",
       "      <td>10000.0</td>\n",
       "      <td>790000.0</td>\n",
       "      <td>No</td>\n",
       "    </tr>\n",
       "    <tr>\n",
       "      <th>11</th>\n",
       "      <td>India</td>\n",
       "      <td>28.0</td>\n",
       "      <td>65000.0</td>\n",
       "      <td>10000.0</td>\n",
       "      <td>790000.0</td>\n",
       "      <td>Yes</td>\n",
       "    </tr>\n",
       "    <tr>\n",
       "      <th>12</th>\n",
       "      <td>Germany</td>\n",
       "      <td>NaN</td>\n",
       "      <td>65000.0</td>\n",
       "      <td>10000.0</td>\n",
       "      <td>790000.0</td>\n",
       "      <td>No</td>\n",
       "    </tr>\n",
       "    <tr>\n",
       "      <th>13</th>\n",
       "      <td>Spain</td>\n",
       "      <td>25.0</td>\n",
       "      <td>15000.0</td>\n",
       "      <td>10000.0</td>\n",
       "      <td>190000.0</td>\n",
       "      <td>No</td>\n",
       "    </tr>\n",
       "    <tr>\n",
       "      <th>14</th>\n",
       "      <td>France</td>\n",
       "      <td>34.0</td>\n",
       "      <td>15000.0</td>\n",
       "      <td>NaN</td>\n",
       "      <td>190000.0</td>\n",
       "      <td>Yes</td>\n",
       "    </tr>\n",
       "    <tr>\n",
       "      <th>15</th>\n",
       "      <td>Germany</td>\n",
       "      <td>45.0</td>\n",
       "      <td>54000.0</td>\n",
       "      <td>25000.0</td>\n",
       "      <td>673000.0</td>\n",
       "      <td>No</td>\n",
       "    </tr>\n",
       "    <tr>\n",
       "      <th>16</th>\n",
       "      <td>Spain</td>\n",
       "      <td>NaN</td>\n",
       "      <td>26000.0</td>\n",
       "      <td>18000.0</td>\n",
       "      <td>330000.0</td>\n",
       "      <td>Yes</td>\n",
       "    </tr>\n",
       "    <tr>\n",
       "      <th>17</th>\n",
       "      <td>India</td>\n",
       "      <td>32.0</td>\n",
       "      <td>260000.0</td>\n",
       "      <td>100000.0</td>\n",
       "      <td>3220000.0</td>\n",
       "      <td>Yes</td>\n",
       "    </tr>\n",
       "    <tr>\n",
       "      <th>18</th>\n",
       "      <td>Germany</td>\n",
       "      <td>54.0</td>\n",
       "      <td>10000.0</td>\n",
       "      <td>1000.0</td>\n",
       "      <td>13000.0</td>\n",
       "      <td>Yes</td>\n",
       "    </tr>\n",
       "    <tr>\n",
       "      <th>19</th>\n",
       "      <td>Germany</td>\n",
       "      <td>23.0</td>\n",
       "      <td>15000.0</td>\n",
       "      <td>10000.0</td>\n",
       "      <td>190000.0</td>\n",
       "      <td>No</td>\n",
       "    </tr>\n",
       "    <tr>\n",
       "      <th>20</th>\n",
       "      <td>India</td>\n",
       "      <td>36.0</td>\n",
       "      <td>NaN</td>\n",
       "      <td>10000.0</td>\n",
       "      <td>250000.0</td>\n",
       "      <td>No</td>\n",
       "    </tr>\n",
       "    <tr>\n",
       "      <th>21</th>\n",
       "      <td>Spain</td>\n",
       "      <td>NaN</td>\n",
       "      <td>56000.0</td>\n",
       "      <td>30000.0</td>\n",
       "      <td>702000.0</td>\n",
       "      <td>Yes</td>\n",
       "    </tr>\n",
       "    <tr>\n",
       "      <th>22</th>\n",
       "      <td>India</td>\n",
       "      <td>3.0</td>\n",
       "      <td>15000.0</td>\n",
       "      <td>10000.0</td>\n",
       "      <td>190000.0</td>\n",
       "      <td>Yes</td>\n",
       "    </tr>\n",
       "    <tr>\n",
       "      <th>23</th>\n",
       "      <td>Germany</td>\n",
       "      <td>5.0</td>\n",
       "      <td>35000.0</td>\n",
       "      <td>10000.0</td>\n",
       "      <td>NaN</td>\n",
       "      <td>Yes</td>\n",
       "    </tr>\n",
       "    <tr>\n",
       "      <th>24</th>\n",
       "      <td>Spain</td>\n",
       "      <td>96.0</td>\n",
       "      <td>51000.0</td>\n",
       "      <td>45000.0</td>\n",
       "      <td>657000.0</td>\n",
       "      <td>Yes</td>\n",
       "    </tr>\n",
       "    <tr>\n",
       "      <th>25</th>\n",
       "      <td>Spain</td>\n",
       "      <td>2.0</td>\n",
       "      <td>84000.0</td>\n",
       "      <td>NaN</td>\n",
       "      <td>1058000.0</td>\n",
       "      <td>No</td>\n",
       "    </tr>\n",
       "    <tr>\n",
       "      <th>26</th>\n",
       "      <td>France</td>\n",
       "      <td>21.0</td>\n",
       "      <td>6000.0</td>\n",
       "      <td>1000.0</td>\n",
       "      <td>73000.0</td>\n",
       "      <td>No</td>\n",
       "    </tr>\n",
       "    <tr>\n",
       "      <th>27</th>\n",
       "      <td>Germany</td>\n",
       "      <td>54.0</td>\n",
       "      <td>5466000.0</td>\n",
       "      <td>35000.0</td>\n",
       "      <td>65627000.0</td>\n",
       "      <td>Yes</td>\n",
       "    </tr>\n",
       "    <tr>\n",
       "      <th>28</th>\n",
       "      <td>France</td>\n",
       "      <td>25.0</td>\n",
       "      <td>61000.0</td>\n",
       "      <td>35000.0</td>\n",
       "      <td>767000.0</td>\n",
       "      <td>No</td>\n",
       "    </tr>\n",
       "    <tr>\n",
       "      <th>29</th>\n",
       "      <td>France</td>\n",
       "      <td>25.0</td>\n",
       "      <td>61000.0</td>\n",
       "      <td>35000.0</td>\n",
       "      <td>767000.0</td>\n",
       "      <td>No</td>\n",
       "    </tr>\n",
       "    <tr>\n",
       "      <th>30</th>\n",
       "      <td>France</td>\n",
       "      <td>25.0</td>\n",
       "      <td>61000.0</td>\n",
       "      <td>35000.0</td>\n",
       "      <td>767000.0</td>\n",
       "      <td>No</td>\n",
       "    </tr>\n",
       "    <tr>\n",
       "      <th>31</th>\n",
       "      <td>India</td>\n",
       "      <td>54.0</td>\n",
       "      <td>51000.0</td>\n",
       "      <td>36000.0</td>\n",
       "      <td>648000.0</td>\n",
       "      <td>Yes</td>\n",
       "    </tr>\n",
       "    <tr>\n",
       "      <th>32</th>\n",
       "      <td>India</td>\n",
       "      <td>26.0</td>\n",
       "      <td>45000.0</td>\n",
       "      <td>10000.0</td>\n",
       "      <td>550000.0</td>\n",
       "      <td>Yes</td>\n",
       "    </tr>\n",
       "    <tr>\n",
       "      <th>33</th>\n",
       "      <td>India</td>\n",
       "      <td>62.0</td>\n",
       "      <td>NaN</td>\n",
       "      <td>10000.0</td>\n",
       "      <td>286000.0</td>\n",
       "      <td>Yes</td>\n",
       "    </tr>\n",
       "    <tr>\n",
       "      <th>34</th>\n",
       "      <td>France</td>\n",
       "      <td>25.0</td>\n",
       "      <td>32000.0</td>\n",
       "      <td>15000.0</td>\n",
       "      <td>399000.0</td>\n",
       "      <td>Yes</td>\n",
       "    </tr>\n",
       "    <tr>\n",
       "      <th>35</th>\n",
       "      <td>Spain</td>\n",
       "      <td>55.0</td>\n",
       "      <td>3000.0</td>\n",
       "      <td>NaN</td>\n",
       "      <td>37000.0</td>\n",
       "      <td>No</td>\n",
       "    </tr>\n",
       "    <tr>\n",
       "      <th>36</th>\n",
       "      <td>India</td>\n",
       "      <td>52.0</td>\n",
       "      <td>35000.0</td>\n",
       "      <td>18000.0</td>\n",
       "      <td>438000.0</td>\n",
       "      <td>No</td>\n",
       "    </tr>\n",
       "    <tr>\n",
       "      <th>37</th>\n",
       "      <td>Spain</td>\n",
       "      <td>36.0</td>\n",
       "      <td>25000.0</td>\n",
       "      <td>10000.0</td>\n",
       "      <td>NaN</td>\n",
       "      <td>No</td>\n",
       "    </tr>\n",
       "    <tr>\n",
       "      <th>38</th>\n",
       "      <td>Germany</td>\n",
       "      <td>51.0</td>\n",
       "      <td>45000.0</td>\n",
       "      <td>30000.0</td>\n",
       "      <td>570000.0</td>\n",
       "      <td>No</td>\n",
       "    </tr>\n",
       "    <tr>\n",
       "      <th>39</th>\n",
       "      <td>India</td>\n",
       "      <td>51.0</td>\n",
       "      <td>95000.0</td>\n",
       "      <td>30000.0</td>\n",
       "      <td>1170000.0</td>\n",
       "      <td>Yes</td>\n",
       "    </tr>\n",
       "    <tr>\n",
       "      <th>40</th>\n",
       "      <td>India</td>\n",
       "      <td>23.0</td>\n",
       "      <td>35000.0</td>\n",
       "      <td>10000.0</td>\n",
       "      <td>430000.0</td>\n",
       "      <td>Yes</td>\n",
       "    </tr>\n",
       "    <tr>\n",
       "      <th>41</th>\n",
       "      <td>India</td>\n",
       "      <td>56.0</td>\n",
       "      <td>15000.0</td>\n",
       "      <td>10000.0</td>\n",
       "      <td>190000.0</td>\n",
       "      <td>No</td>\n",
       "    </tr>\n",
       "    <tr>\n",
       "      <th>42</th>\n",
       "      <td>Germany</td>\n",
       "      <td>52.0</td>\n",
       "      <td>45000.0</td>\n",
       "      <td>NaN</td>\n",
       "      <td>640000.0</td>\n",
       "      <td>No</td>\n",
       "    </tr>\n",
       "    <tr>\n",
       "      <th>43</th>\n",
       "      <td>Spain</td>\n",
       "      <td>52.0</td>\n",
       "      <td>35000.0</td>\n",
       "      <td>20000.0</td>\n",
       "      <td>440000.0</td>\n",
       "      <td>Yes</td>\n",
       "    </tr>\n",
       "    <tr>\n",
       "      <th>44</th>\n",
       "      <td>Germany</td>\n",
       "      <td>84.0</td>\n",
       "      <td>45000.0</td>\n",
       "      <td>10000.0</td>\n",
       "      <td>550000.0</td>\n",
       "      <td>Yes</td>\n",
       "    </tr>\n",
       "    <tr>\n",
       "      <th>45</th>\n",
       "      <td>Germany</td>\n",
       "      <td>58.0</td>\n",
       "      <td>45000.0</td>\n",
       "      <td>20000.0</td>\n",
       "      <td>NaN</td>\n",
       "      <td>Yes</td>\n",
       "    </tr>\n",
       "    <tr>\n",
       "      <th>46</th>\n",
       "      <td>Spain</td>\n",
       "      <td>44.0</td>\n",
       "      <td>53000.0</td>\n",
       "      <td>20000.0</td>\n",
       "      <td>656000.0</td>\n",
       "      <td>Yes</td>\n",
       "    </tr>\n",
       "    <tr>\n",
       "      <th>47</th>\n",
       "      <td>France</td>\n",
       "      <td>536.0</td>\n",
       "      <td>NaN</td>\n",
       "      <td>60000.0</td>\n",
       "      <td>840000.0</td>\n",
       "      <td>Yes</td>\n",
       "    </tr>\n",
       "    <tr>\n",
       "      <th>48</th>\n",
       "      <td>India</td>\n",
       "      <td>21.0</td>\n",
       "      <td>26000.0</td>\n",
       "      <td>10000.0</td>\n",
       "      <td>322000.0</td>\n",
       "      <td>Yes</td>\n",
       "    </tr>\n",
       "  </tbody>\n",
       "</table>\n",
       "</div>"
      ],
      "text/plain": [
       "    Country    Age  Current Salary  Starting Salary  Annual Package Married\n",
       "0    France   45.0         56000.0          20000.0        692000.0     Yes\n",
       "1     Spain   26.0         26000.0          10000.0        322000.0      No\n",
       "2   Germany   26.0         25000.0          10000.0        310000.0     Yes\n",
       "3     Spain   26.0             NaN          10000.0        790000.0      No\n",
       "4   Germany   45.0         35000.0          10000.0        430000.0      No\n",
       "5    France   59.0          9300.0          15000.0         16116.0      No\n",
       "6     Spain    NaN         56000.0          10000.0        682000.0     Yes\n",
       "7    France   45.0         42000.0          20000.0             NaN     Yes\n",
       "8   Germany   25.0        650000.0          30000.0       7830000.0      No\n",
       "9    France   54.0             NaN          10000.0        442000.0     Yes\n",
       "10  Germany   25.0         65000.0          10000.0        790000.0      No\n",
       "11    India   28.0         65000.0          10000.0        790000.0     Yes\n",
       "12  Germany    NaN         65000.0          10000.0        790000.0      No\n",
       "13    Spain   25.0         15000.0          10000.0        190000.0      No\n",
       "14   France   34.0         15000.0              NaN        190000.0     Yes\n",
       "15  Germany   45.0         54000.0          25000.0        673000.0      No\n",
       "16    Spain    NaN         26000.0          18000.0        330000.0     Yes\n",
       "17    India   32.0        260000.0         100000.0       3220000.0     Yes\n",
       "18  Germany   54.0         10000.0           1000.0         13000.0     Yes\n",
       "19  Germany   23.0         15000.0          10000.0        190000.0      No\n",
       "20    India   36.0             NaN          10000.0        250000.0      No\n",
       "21    Spain    NaN         56000.0          30000.0        702000.0     Yes\n",
       "22    India    3.0         15000.0          10000.0        190000.0     Yes\n",
       "23  Germany    5.0         35000.0          10000.0             NaN     Yes\n",
       "24    Spain   96.0         51000.0          45000.0        657000.0     Yes\n",
       "25    Spain    2.0         84000.0              NaN       1058000.0      No\n",
       "26   France   21.0          6000.0           1000.0         73000.0      No\n",
       "27  Germany   54.0       5466000.0          35000.0      65627000.0     Yes\n",
       "28   France   25.0         61000.0          35000.0        767000.0      No\n",
       "29   France   25.0         61000.0          35000.0        767000.0      No\n",
       "30   France   25.0         61000.0          35000.0        767000.0      No\n",
       "31    India   54.0         51000.0          36000.0        648000.0     Yes\n",
       "32    India   26.0         45000.0          10000.0        550000.0     Yes\n",
       "33    India   62.0             NaN          10000.0        286000.0     Yes\n",
       "34   France   25.0         32000.0          15000.0        399000.0     Yes\n",
       "35    Spain   55.0          3000.0              NaN         37000.0      No\n",
       "36    India   52.0         35000.0          18000.0        438000.0      No\n",
       "37    Spain   36.0         25000.0          10000.0             NaN      No\n",
       "38  Germany   51.0         45000.0          30000.0        570000.0      No\n",
       "39    India   51.0         95000.0          30000.0       1170000.0     Yes\n",
       "40    India   23.0         35000.0          10000.0        430000.0     Yes\n",
       "41    India   56.0         15000.0          10000.0        190000.0      No\n",
       "42  Germany   52.0         45000.0              NaN        640000.0      No\n",
       "43    Spain   52.0         35000.0          20000.0        440000.0     Yes\n",
       "44  Germany   84.0         45000.0          10000.0        550000.0     Yes\n",
       "45  Germany   58.0         45000.0          20000.0             NaN     Yes\n",
       "46    Spain   44.0         53000.0          20000.0        656000.0     Yes\n",
       "47   France  536.0             NaN          60000.0        840000.0     Yes\n",
       "48    India   21.0         26000.0          10000.0        322000.0     Yes"
      ]
     },
     "execution_count": 9,
     "metadata": {},
     "output_type": "execute_result"
    }
   ],
   "source": [
    "#Enter the filename inside the quotes which is to be taken\n",
    "path = data_dir+'/Data.csv'\n",
    "\n",
    "name, extension = os.path.splitext(path)\n",
    "\n",
    "if (extension == '.csv'):\n",
    "    data_raw = data_raw = pd.read_csv(path, na_values=missing_values)\n",
    "    print(\"File type is \"+extension)\n",
    "elif (extension == '.xls' or extension=='.xlsx'):\n",
    "    data_raw = pd.read_excel(path, na_values=missing_values)\n",
    "    print(\"File type is \"+extension)\n",
    "else: \n",
    "    print(\"This is not a supported dataset. Please upload a csv or excel file\")\n",
    "\n",
    "data_raw"
   ]
  },
  {
   "cell_type": "markdown",
   "metadata": {},
   "source": [
    "### Importing the dataset\n",
    "The dataset can be in csv or excel format for easier computation.\n",
    "This block also shows whether the dataset is in csv or excel format"
   ]
  },
  {
   "cell_type": "markdown",
   "metadata": {},
   "source": [
    "So since the we have got the file type. It will print the extension and contine will that extension format."
   ]
  },
  {
   "cell_type": "markdown",
   "metadata": {},
   "source": [
    "### Detecting the Null Values:\n",
    "\n",
    "This will show the total null values present in the dataset"
   ]
  },
  {
   "cell_type": "code",
   "execution_count": 10,
   "metadata": {},
   "outputs": [
    {
     "name": "stdout",
     "output_type": "stream",
     "text": [
      "<class 'pandas.core.frame.DataFrame'>\n",
      "RangeIndex: 49 entries, 0 to 48\n",
      "Data columns (total 6 columns):\n",
      " #   Column           Non-Null Count  Dtype  \n",
      "---  ------           --------------  -----  \n",
      " 0   Country          49 non-null     object \n",
      " 1   Age              45 non-null     float64\n",
      " 2   Current Salary   44 non-null     float64\n",
      " 3   Starting Salary  45 non-null     float64\n",
      " 4   Annual Package   45 non-null     float64\n",
      " 5   Married          49 non-null     object \n",
      "dtypes: float64(4), object(2)\n",
      "memory usage: 2.4+ KB\n"
     ]
    }
   ],
   "source": [
    "data_raw.info()"
   ]
  },
  {
   "cell_type": "code",
   "execution_count": 11,
   "metadata": {},
   "outputs": [
    {
     "data": {
      "text/plain": [
       "Country            0\n",
       "Age                4\n",
       "Current Salary     5\n",
       "Starting Salary    4\n",
       "Annual Package     4\n",
       "Married            0\n",
       "dtype: int64"
      ]
     },
     "execution_count": 11,
     "metadata": {},
     "output_type": "execute_result"
    }
   ],
   "source": [
    "#data_raw.isnull().any() #Checks if there is any null value\n",
    "data_raw.isnull().sum() #Calculates the total Null Values present\n",
    "#data_raw.count() #Shows total number of values present in each column"
   ]
  },
  {
   "cell_type": "markdown",
   "metadata": {},
   "source": [
    "**Using Heatmap to show the presence of null values**\n",
    "\n",
    "If the whole graph is a red box, then there is no null vales present in the dataset.\n",
    "But if there is any null values present in the dataset, then the color of block will me changed to black, and the null values will be shown in white color. "
   ]
  },
  {
   "cell_type": "code",
   "execution_count": 12,
   "metadata": {},
   "outputs": [
    {
     "data": {
      "text/plain": [
       "<matplotlib.axes._subplots.AxesSubplot at 0x1f089ebea60>"
      ]
     },
     "execution_count": 12,
     "metadata": {},
     "output_type": "execute_result"
    },
    {
     "data": {
      "image/png": "[encoded data removed]",
      "text/plain": [
       "<Figure size 432x288 with 2 Axes>"
      ]
     },
     "metadata": {
      "needs_background": "light"
     },
     "output_type": "display_data"
    }
   ],
   "source": [
    "sns.heatmap(data_raw.isnull(), yticklabels=False)"
   ]
  },
  {
   "cell_type": "markdown",
   "metadata": {},
   "source": [
    "### Elimination of Null Values from the dataset\n",
    "\n",
    "There are different methods to get eliminate the null values in the dataset:\n",
    "- Deleting the rows which contains null values\n",
    "- Replacing the null cells with a particular values (or mean of the column)\n",
    "- Interpolating the dataset (ie, Replacing null cells with the mean of its neighbours)"
   ]
  },
  {
   "cell_type": "code",
   "execution_count": 13,
   "metadata": {},
   "outputs": [
    {
     "data": {
      "text/html": [
       "<div>\n",
       "<style scoped>\n",
       "    .dataframe tbody tr th:only-of-type {\n",
       "        vertical-align: middle;\n",
       "    }\n",
       "\n",
       "    .dataframe tbody tr th {\n",
       "        vertical-align: top;\n",
       "    }\n",
       "\n",
       "    .dataframe thead th {\n",
       "        text-align: right;\n",
       "    }\n",
       "</style>\n",
       "<table border=\"1\" class=\"dataframe\">\n",
       "  <thead>\n",
       "    <tr style=\"text-align: right;\">\n",
       "      <th></th>\n",
       "      <th>Country</th>\n",
       "      <th>Age</th>\n",
       "      <th>Current Salary</th>\n",
       "      <th>Starting Salary</th>\n",
       "      <th>Annual Package</th>\n",
       "      <th>Married</th>\n",
       "    </tr>\n",
       "  </thead>\n",
       "  <tbody>\n",
       "    <tr>\n",
       "      <th>0</th>\n",
       "      <td>France</td>\n",
       "      <td>45.0</td>\n",
       "      <td>56000.0</td>\n",
       "      <td>20000.0</td>\n",
       "      <td>692000.0</td>\n",
       "      <td>Yes</td>\n",
       "    </tr>\n",
       "    <tr>\n",
       "      <th>1</th>\n",
       "      <td>Spain</td>\n",
       "      <td>26.0</td>\n",
       "      <td>26000.0</td>\n",
       "      <td>10000.0</td>\n",
       "      <td>322000.0</td>\n",
       "      <td>No</td>\n",
       "    </tr>\n",
       "    <tr>\n",
       "      <th>2</th>\n",
       "      <td>Germany</td>\n",
       "      <td>26.0</td>\n",
       "      <td>25000.0</td>\n",
       "      <td>10000.0</td>\n",
       "      <td>310000.0</td>\n",
       "      <td>Yes</td>\n",
       "    </tr>\n",
       "    <tr>\n",
       "      <th>4</th>\n",
       "      <td>Germany</td>\n",
       "      <td>45.0</td>\n",
       "      <td>35000.0</td>\n",
       "      <td>10000.0</td>\n",
       "      <td>430000.0</td>\n",
       "      <td>No</td>\n",
       "    </tr>\n",
       "    <tr>\n",
       "      <th>5</th>\n",
       "      <td>France</td>\n",
       "      <td>59.0</td>\n",
       "      <td>9300.0</td>\n",
       "      <td>15000.0</td>\n",
       "      <td>16116.0</td>\n",
       "      <td>No</td>\n",
       "    </tr>\n",
       "    <tr>\n",
       "      <th>8</th>\n",
       "      <td>Germany</td>\n",
       "      <td>25.0</td>\n",
       "      <td>650000.0</td>\n",
       "      <td>30000.0</td>\n",
       "      <td>7830000.0</td>\n",
       "      <td>No</td>\n",
       "    </tr>\n",
       "    <tr>\n",
       "      <th>10</th>\n",
       "      <td>Germany</td>\n",
       "      <td>25.0</td>\n",
       "      <td>65000.0</td>\n",
       "      <td>10000.0</td>\n",
       "      <td>790000.0</td>\n",
       "      <td>No</td>\n",
       "    </tr>\n",
       "    <tr>\n",
       "      <th>11</th>\n",
       "      <td>India</td>\n",
       "      <td>28.0</td>\n",
       "      <td>65000.0</td>\n",
       "      <td>10000.0</td>\n",
       "      <td>790000.0</td>\n",
       "      <td>Yes</td>\n",
       "    </tr>\n",
       "    <tr>\n",
       "      <th>13</th>\n",
       "      <td>Spain</td>\n",
       "      <td>25.0</td>\n",
       "      <td>15000.0</td>\n",
       "      <td>10000.0</td>\n",
       "      <td>190000.0</td>\n",
       "      <td>No</td>\n",
       "    </tr>\n",
       "    <tr>\n",
       "      <th>15</th>\n",
       "      <td>Germany</td>\n",
       "      <td>45.0</td>\n",
       "      <td>54000.0</td>\n",
       "      <td>25000.0</td>\n",
       "      <td>673000.0</td>\n",
       "      <td>No</td>\n",
       "    </tr>\n",
       "    <tr>\n",
       "      <th>17</th>\n",
       "      <td>India</td>\n",
       "      <td>32.0</td>\n",
       "      <td>260000.0</td>\n",
       "      <td>100000.0</td>\n",
       "      <td>3220000.0</td>\n",
       "      <td>Yes</td>\n",
       "    </tr>\n",
       "    <tr>\n",
       "      <th>18</th>\n",
       "      <td>Germany</td>\n",
       "      <td>54.0</td>\n",
       "      <td>10000.0</td>\n",
       "      <td>1000.0</td>\n",
       "      <td>13000.0</td>\n",
       "      <td>Yes</td>\n",
       "    </tr>\n",
       "    <tr>\n",
       "      <th>19</th>\n",
       "      <td>Germany</td>\n",
       "      <td>23.0</td>\n",
       "      <td>15000.0</td>\n",
       "      <td>10000.0</td>\n",
       "      <td>190000.0</td>\n",
       "      <td>No</td>\n",
       "    </tr>\n",
       "    <tr>\n",
       "      <th>22</th>\n",
       "      <td>India</td>\n",
       "      <td>3.0</td>\n",
       "      <td>15000.0</td>\n",
       "      <td>10000.0</td>\n",
       "      <td>190000.0</td>\n",
       "      <td>Yes</td>\n",
       "    </tr>\n",
       "    <tr>\n",
       "      <th>24</th>\n",
       "      <td>Spain</td>\n",
       "      <td>96.0</td>\n",
       "      <td>51000.0</td>\n",
       "      <td>45000.0</td>\n",
       "      <td>657000.0</td>\n",
       "      <td>Yes</td>\n",
       "    </tr>\n",
       "    <tr>\n",
       "      <th>26</th>\n",
       "      <td>France</td>\n",
       "      <td>21.0</td>\n",
       "      <td>6000.0</td>\n",
       "      <td>1000.0</td>\n",
       "      <td>73000.0</td>\n",
       "      <td>No</td>\n",
       "    </tr>\n",
       "    <tr>\n",
       "      <th>27</th>\n",
       "      <td>Germany</td>\n",
       "      <td>54.0</td>\n",
       "      <td>5466000.0</td>\n",
       "      <td>35000.0</td>\n",
       "      <td>65627000.0</td>\n",
       "      <td>Yes</td>\n",
       "    </tr>\n",
       "    <tr>\n",
       "      <th>28</th>\n",
       "      <td>France</td>\n",
       "      <td>25.0</td>\n",
       "      <td>61000.0</td>\n",
       "      <td>35000.0</td>\n",
       "      <td>767000.0</td>\n",
       "      <td>No</td>\n",
       "    </tr>\n",
       "    <tr>\n",
       "      <th>29</th>\n",
       "      <td>France</td>\n",
       "      <td>25.0</td>\n",
       "      <td>61000.0</td>\n",
       "      <td>35000.0</td>\n",
       "      <td>767000.0</td>\n",
       "      <td>No</td>\n",
       "    </tr>\n",
       "    <tr>\n",
       "      <th>30</th>\n",
       "      <td>France</td>\n",
       "      <td>25.0</td>\n",
       "      <td>61000.0</td>\n",
       "      <td>35000.0</td>\n",
       "      <td>767000.0</td>\n",
       "      <td>No</td>\n",
       "    </tr>\n",
       "    <tr>\n",
       "      <th>31</th>\n",
       "      <td>India</td>\n",
       "      <td>54.0</td>\n",
       "      <td>51000.0</td>\n",
       "      <td>36000.0</td>\n",
       "      <td>648000.0</td>\n",
       "      <td>Yes</td>\n",
       "    </tr>\n",
       "    <tr>\n",
       "      <th>32</th>\n",
       "      <td>India</td>\n",
       "      <td>26.0</td>\n",
       "      <td>45000.0</td>\n",
       "      <td>10000.0</td>\n",
       "      <td>550000.0</td>\n",
       "      <td>Yes</td>\n",
       "    </tr>\n",
       "    <tr>\n",
       "      <th>34</th>\n",
       "      <td>France</td>\n",
       "      <td>25.0</td>\n",
       "      <td>32000.0</td>\n",
       "      <td>15000.0</td>\n",
       "      <td>399000.0</td>\n",
       "      <td>Yes</td>\n",
       "    </tr>\n",
       "    <tr>\n",
       "      <th>36</th>\n",
       "      <td>India</td>\n",
       "      <td>52.0</td>\n",
       "      <td>35000.0</td>\n",
       "      <td>18000.0</td>\n",
       "      <td>438000.0</td>\n",
       "      <td>No</td>\n",
       "    </tr>\n",
       "    <tr>\n",
       "      <th>38</th>\n",
       "      <td>Germany</td>\n",
       "      <td>51.0</td>\n",
       "      <td>45000.0</td>\n",
       "      <td>30000.0</td>\n",
       "      <td>570000.0</td>\n",
       "      <td>No</td>\n",
       "    </tr>\n",
       "    <tr>\n",
       "      <th>39</th>\n",
       "      <td>India</td>\n",
       "      <td>51.0</td>\n",
       "      <td>95000.0</td>\n",
       "      <td>30000.0</td>\n",
       "      <td>1170000.0</td>\n",
       "      <td>Yes</td>\n",
       "    </tr>\n",
       "    <tr>\n",
       "      <th>40</th>\n",
       "      <td>India</td>\n",
       "      <td>23.0</td>\n",
       "      <td>35000.0</td>\n",
       "      <td>10000.0</td>\n",
       "      <td>430000.0</td>\n",
       "      <td>Yes</td>\n",
       "    </tr>\n",
       "    <tr>\n",
       "      <th>41</th>\n",
       "      <td>India</td>\n",
       "      <td>56.0</td>\n",
       "      <td>15000.0</td>\n",
       "      <td>10000.0</td>\n",
       "      <td>190000.0</td>\n",
       "      <td>No</td>\n",
       "    </tr>\n",
       "    <tr>\n",
       "      <th>43</th>\n",
       "      <td>Spain</td>\n",
       "      <td>52.0</td>\n",
       "      <td>35000.0</td>\n",
       "      <td>20000.0</td>\n",
       "      <td>440000.0</td>\n",
       "      <td>Yes</td>\n",
       "    </tr>\n",
       "    <tr>\n",
       "      <th>44</th>\n",
       "      <td>Germany</td>\n",
       "      <td>84.0</td>\n",
       "      <td>45000.0</td>\n",
       "      <td>10000.0</td>\n",
       "      <td>550000.0</td>\n",
       "      <td>Yes</td>\n",
       "    </tr>\n",
       "    <tr>\n",
       "      <th>46</th>\n",
       "      <td>Spain</td>\n",
       "      <td>44.0</td>\n",
       "      <td>53000.0</td>\n",
       "      <td>20000.0</td>\n",
       "      <td>656000.0</td>\n",
       "      <td>Yes</td>\n",
       "    </tr>\n",
       "    <tr>\n",
       "      <th>48</th>\n",
       "      <td>India</td>\n",
       "      <td>21.0</td>\n",
       "      <td>26000.0</td>\n",
       "      <td>10000.0</td>\n",
       "      <td>322000.0</td>\n",
       "      <td>Yes</td>\n",
       "    </tr>\n",
       "  </tbody>\n",
       "</table>\n",
       "</div>"
      ],
      "text/plain": [
       "    Country   Age  Current Salary  Starting Salary  Annual Package Married\n",
       "0    France  45.0         56000.0          20000.0        692000.0     Yes\n",
       "1     Spain  26.0         26000.0          10000.0        322000.0      No\n",
       "2   Germany  26.0         25000.0          10000.0        310000.0     Yes\n",
       "4   Germany  45.0         35000.0          10000.0        430000.0      No\n",
       "5    France  59.0          9300.0          15000.0         16116.0      No\n",
       "8   Germany  25.0        650000.0          30000.0       7830000.0      No\n",
       "10  Germany  25.0         65000.0          10000.0        790000.0      No\n",
       "11    India  28.0         65000.0          10000.0        790000.0     Yes\n",
       "13    Spain  25.0         15000.0          10000.0        190000.0      No\n",
       "15  Germany  45.0         54000.0          25000.0        673000.0      No\n",
       "17    India  32.0        260000.0         100000.0       3220000.0     Yes\n",
       "18  Germany  54.0         10000.0           1000.0         13000.0     Yes\n",
       "19  Germany  23.0         15000.0          10000.0        190000.0      No\n",
       "22    India   3.0         15000.0          10000.0        190000.0     Yes\n",
       "24    Spain  96.0         51000.0          45000.0        657000.0     Yes\n",
       "26   France  21.0          6000.0           1000.0         73000.0      No\n",
       "27  Germany  54.0       5466000.0          35000.0      65627000.0     Yes\n",
       "28   France  25.0         61000.0          35000.0        767000.0      No\n",
       "29   France  25.0         61000.0          35000.0        767000.0      No\n",
       "30   France  25.0         61000.0          35000.0        767000.0      No\n",
       "31    India  54.0         51000.0          36000.0        648000.0     Yes\n",
       "32    India  26.0         45000.0          10000.0        550000.0     Yes\n",
       "34   France  25.0         32000.0          15000.0        399000.0     Yes\n",
       "36    India  52.0         35000.0          18000.0        438000.0      No\n",
       "38  Germany  51.0         45000.0          30000.0        570000.0      No\n",
       "39    India  51.0         95000.0          30000.0       1170000.0     Yes\n",
       "40    India  23.0         35000.0          10000.0        430000.0     Yes\n",
       "41    India  56.0         15000.0          10000.0        190000.0      No\n",
       "43    Spain  52.0         35000.0          20000.0        440000.0     Yes\n",
       "44  Germany  84.0         45000.0          10000.0        550000.0     Yes\n",
       "46    Spain  44.0         53000.0          20000.0        656000.0     Yes\n",
       "48    India  21.0         26000.0          10000.0        322000.0     Yes"
      ]
     },
     "execution_count": 13,
     "metadata": {},
     "output_type": "execute_result"
    }
   ],
   "source": [
    "#Deleting all the rows containing any Null cell in dataset\n",
    "data=data_raw.dropna() \n",
    "\n",
    "#Fills the Null cells with 0 if (0), (method='bfill') for backfill, (method='ffill') for fwdfill\n",
    "#data=data_raw.fillna(0)\n",
    "\n",
    "#Fill the null values with arithematic mean of column\n",
    "#data=data_raw.fillna(data_raw.mean())\n",
    "\n",
    "#Interpolating the null values\n",
    "#data=data_raw.interpolate()\n",
    "\n",
    "data"
   ]
  },
  {
   "cell_type": "code",
   "execution_count": 14,
   "metadata": {},
   "outputs": [
    {
     "data": {
      "text/plain": [
       "Country            False\n",
       "Age                False\n",
       "Current Salary     False\n",
       "Starting Salary    False\n",
       "Annual Package     False\n",
       "Married            False\n",
       "dtype: bool"
      ]
     },
     "execution_count": 14,
     "metadata": {},
     "output_type": "execute_result"
    }
   ],
   "source": [
    "#Again Ensuring the presence of any null values\n",
    "\n",
    "data.isnull().any() #Checks if there is any null value\n",
    "#data.isnull().sum() #Calculates the total Null Values present\n",
    "#sns.heatmap(data.isnull(), yticklabels=False) #Shows the Heat-Map of null values in the dataset\n",
    "#data.count() #Shows total number of values present in each column"
   ]
  },
  {
   "cell_type": "markdown",
   "metadata": {},
   "source": [
    "### Checking the properties of the dataset"
   ]
  },
  {
   "cell_type": "code",
   "execution_count": 15,
   "metadata": {},
   "outputs": [
    {
     "name": "stdout",
     "output_type": "stream",
     "text": [
      "<class 'pandas.core.frame.DataFrame'>\n",
      "Int64Index: 32 entries, 0 to 48\n",
      "Data columns (total 6 columns):\n",
      " #   Column           Non-Null Count  Dtype  \n",
      "---  ------           --------------  -----  \n",
      " 0   Country          32 non-null     object \n",
      " 1   Age              32 non-null     float64\n",
      " 2   Current Salary   32 non-null     float64\n",
      " 3   Starting Salary  32 non-null     float64\n",
      " 4   Annual Package   32 non-null     float64\n",
      " 5   Married          32 non-null     object \n",
      "dtypes: float64(4), object(2)\n",
      "memory usage: 1.8+ KB\n"
     ]
    }
   ],
   "source": [
    "data.info()\n",
    "#To show the basic info about the DataFrame"
   ]
  },
  {
   "cell_type": "markdown",
   "metadata": {},
   "source": [
    "**Creating different DataFrames for object-based and non-object based computations**\n",
    "\n",
    "Some methods only run for interger and float variables. Therefore it is better to create a dataframe excluding Objects."
   ]
  },
  {
   "cell_type": "code",
   "execution_count": 16,
   "metadata": {},
   "outputs": [
    {
     "data": {
      "text/plain": [
       "(32, 4)"
      ]
     },
     "execution_count": 16,
     "metadata": {},
     "output_type": "execute_result"
    }
   ],
   "source": [
    "df = data.select_dtypes(exclude = 'object')\n",
    "df.shape"
   ]
  },
  {
   "cell_type": "code",
   "execution_count": 17,
   "metadata": {},
   "outputs": [
    {
     "data": {
      "text/plain": [
       "['Married', 'Country']"
      ]
     },
     "execution_count": 17,
     "metadata": {},
     "output_type": "execute_result"
    }
   ],
   "source": [
    "obj_df = list(set(df.columns).symmetric_difference(data.columns))\n",
    "obj_df"
   ]
  },
  {
   "cell_type": "code",
   "execution_count": 18,
   "metadata": {},
   "outputs": [
    {
     "data": {
      "text/html": [
       "<div>\n",
       "<style scoped>\n",
       "    .dataframe tbody tr th:only-of-type {\n",
       "        vertical-align: middle;\n",
       "    }\n",
       "\n",
       "    .dataframe tbody tr th {\n",
       "        vertical-align: top;\n",
       "    }\n",
       "\n",
       "    .dataframe thead th {\n",
       "        text-align: right;\n",
       "    }\n",
       "</style>\n",
       "<table border=\"1\" class=\"dataframe\">\n",
       "  <thead>\n",
       "    <tr style=\"text-align: right;\">\n",
       "      <th></th>\n",
       "      <th>Age</th>\n",
       "      <th>Current Salary</th>\n",
       "      <th>Starting Salary</th>\n",
       "      <th>Annual Package</th>\n",
       "    </tr>\n",
       "  </thead>\n",
       "  <tbody>\n",
       "    <tr>\n",
       "      <th>count</th>\n",
       "      <td>32.000000</td>\n",
       "      <td>3.200000e+01</td>\n",
       "      <td>32.000000</td>\n",
       "      <td>3.200000e+01</td>\n",
       "    </tr>\n",
       "    <tr>\n",
       "      <th>mean</th>\n",
       "      <td>38.937500</td>\n",
       "      <td>2.349469e+05</td>\n",
       "      <td>21125.000000</td>\n",
       "      <td>2.833660e+06</td>\n",
       "    </tr>\n",
       "    <tr>\n",
       "      <th>std</th>\n",
       "      <td>19.594169</td>\n",
       "      <td>9.614950e+05</td>\n",
       "      <td>18440.400947</td>\n",
       "      <td>1.154308e+07</td>\n",
       "    </tr>\n",
       "    <tr>\n",
       "      <th>min</th>\n",
       "      <td>3.000000</td>\n",
       "      <td>6.000000e+03</td>\n",
       "      <td>1000.000000</td>\n",
       "      <td>1.300000e+04</td>\n",
       "    </tr>\n",
       "    <tr>\n",
       "      <th>25%</th>\n",
       "      <td>25.000000</td>\n",
       "      <td>2.575000e+04</td>\n",
       "      <td>10000.000000</td>\n",
       "      <td>3.190000e+05</td>\n",
       "    </tr>\n",
       "    <tr>\n",
       "      <th>50%</th>\n",
       "      <td>30.000000</td>\n",
       "      <td>4.500000e+04</td>\n",
       "      <td>15000.000000</td>\n",
       "      <td>5.500000e+05</td>\n",
       "    </tr>\n",
       "    <tr>\n",
       "      <th>75%</th>\n",
       "      <td>52.000000</td>\n",
       "      <td>6.100000e+04</td>\n",
       "      <td>30000.000000</td>\n",
       "      <td>7.670000e+05</td>\n",
       "    </tr>\n",
       "    <tr>\n",
       "      <th>max</th>\n",
       "      <td>96.000000</td>\n",
       "      <td>5.466000e+06</td>\n",
       "      <td>100000.000000</td>\n",
       "      <td>6.562700e+07</td>\n",
       "    </tr>\n",
       "  </tbody>\n",
       "</table>\n",
       "</div>"
      ],
      "text/plain": [
       "             Age  Current Salary  Starting Salary  Annual Package\n",
       "count  32.000000    3.200000e+01        32.000000    3.200000e+01\n",
       "mean   38.937500    2.349469e+05     21125.000000    2.833660e+06\n",
       "std    19.594169    9.614950e+05     18440.400947    1.154308e+07\n",
       "min     3.000000    6.000000e+03      1000.000000    1.300000e+04\n",
       "25%    25.000000    2.575000e+04     10000.000000    3.190000e+05\n",
       "50%    30.000000    4.500000e+04     15000.000000    5.500000e+05\n",
       "75%    52.000000    6.100000e+04     30000.000000    7.670000e+05\n",
       "max    96.000000    5.466000e+06    100000.000000    6.562700e+07"
      ]
     },
     "execution_count": 18,
     "metadata": {},
     "output_type": "execute_result"
    }
   ],
   "source": [
    "#Shows the arithematic properties of the dataset\n",
    "data.describe()"
   ]
  },
  {
   "cell_type": "markdown",
   "metadata": {},
   "source": [
    "cols = data.columns\n",
    "l = len(cols)\n",
    "cols, l"
   ]
  },
  {
   "cell_type": "code",
   "execution_count": 19,
   "metadata": {},
   "outputs": [
    {
     "data": {
      "text/plain": [
       "(32, 6)"
      ]
     },
     "execution_count": 19,
     "metadata": {},
     "output_type": "execute_result"
    }
   ],
   "source": [
    "#Display total number of data in the dataframe (rows,columns)\n",
    "data.shape"
   ]
  },
  {
   "cell_type": "markdown",
   "metadata": {},
   "source": [
    "### Execution of duplicate rows\n",
    "\n",
    "**Detection:**"
   ]
  },
  {
   "cell_type": "code",
   "execution_count": 20,
   "metadata": {},
   "outputs": [
    {
     "name": "stdout",
     "output_type": "stream",
     "text": [
      "Country            2\n",
      "Age                2\n",
      "Current Salary     2\n",
      "Starting Salary    2\n",
      "Annual Package     2\n",
      "Married            2\n",
      "dtype: int64\n"
     ]
    }
   ],
   "source": [
    "#Collect duplicate rows in the dataset\n",
    "duplicate = data[data.duplicated()]\n",
    "print(duplicate.count()) #To show the total number of duplicate rows in the dataset"
   ]
  },
  {
   "cell_type": "markdown",
   "metadata": {},
   "source": [
    "If all the values are 0, then there are no duplicate rows in the dataset.\n",
    "\n",
    "We can also see the list of rows which are duplicates. If there is no duplicate rows then it will only display the attribute names"
   ]
  },
  {
   "cell_type": "code",
   "execution_count": 21,
   "metadata": {
    "scrolled": true
   },
   "outputs": [
    {
     "ename": "NameError",
     "evalue": "name 'printduplicate' is not defined",
     "output_type": "error",
     "traceback": [
      "\u001b[1;31m---------------------------------------------------------------------------\u001b[0m",
      "\u001b[1;31mNameError\u001b[0m                                 Traceback (most recent call last)",
      "\u001b[1;32m<ipython-input-21-06a2650cf4c3>\u001b[0m in \u001b[0;36m<module>\u001b[1;34m\u001b[0m\n\u001b[0;32m      1\u001b[0m \u001b[1;31m#Print the duplicate rows\u001b[0m\u001b[1;33m\u001b[0m\u001b[1;33m\u001b[0m\u001b[1;33m\u001b[0m\u001b[0m\n\u001b[1;32m----> 2\u001b[1;33m \u001b[0mprintduplicate\u001b[0m\u001b[1;33m\u001b[0m\u001b[1;33m\u001b[0m\u001b[0m\n\u001b[0m",
      "\u001b[1;31mNameError\u001b[0m: name 'printduplicate' is not defined"
     ]
    }
   ],
   "source": [
    "#Print the duplicate rows\n",
    "printduplicate"
   ]
  },
  {
   "cell_type": "markdown",
   "metadata": {},
   "source": [
    "**Deletion:**"
   ]
  },
  {
   "cell_type": "code",
   "execution_count": null,
   "metadata": {},
   "outputs": [],
   "source": [
    "#Deleting duplicate values\n",
    "data = data.drop_duplicates()\n",
    "duplicate = data[data.duplicated()]\n",
    "data = data.dropna()\n",
    "duplicate.count()"
   ]
  },
  {
   "cell_type": "markdown",
   "metadata": {},
   "source": [
    "Now we can see here that the duplicates for all the attributes is showing zero, so there are no more duplicate rows in the dataset"
   ]
  },
  {
   "cell_type": "code",
   "execution_count": null,
   "metadata": {},
   "outputs": [],
   "source": [
    "data.shape"
   ]
  },
  {
   "cell_type": "markdown",
   "metadata": {},
   "source": [
    "### Correlation Matrix and Heatmap"
   ]
  },
  {
   "cell_type": "code",
   "execution_count": null,
   "metadata": {
    "scrolled": true
   },
   "outputs": [],
   "source": [
    "corrMat = data.corr()\n",
    "corrMat"
   ]
  },
  {
   "cell_type": "code",
   "execution_count": null,
   "metadata": {},
   "outputs": [],
   "source": [
    "data"
   ]
  },
  {
   "cell_type": "code",
   "execution_count": null,
   "metadata": {},
   "outputs": [],
   "source": [
    "#Visualizing in Heatmap\n",
    "plt.figure(figsize=(20,10))\n",
    "sns.heatmap(corrMat, cmap='coolwarm', annot=True)\n",
    "plt.show()"
   ]
  },
  {
   "cell_type": "markdown",
   "metadata": {},
   "source": [
    "### Principal Component Analysis"
   ]
  },
  {
   "cell_type": "code",
   "execution_count": null,
   "metadata": {},
   "outputs": [],
   "source": [
    "X = np.random.randint(10,50,100).reshape(20,5) \n",
    "X_meaned = X - np.mean(X, axis=0)"
   ]
  },
  {
   "cell_type": "code",
   "execution_count": null,
   "metadata": {},
   "outputs": [],
   "source": [
    "cov_mat = np.cov(X_meaned , rowvar = False)"
   ]
  },
  {
   "cell_type": "code",
   "execution_count": null,
   "metadata": {},
   "outputs": [],
   "source": [
    "eigen_values , eigen_vectors = np.linalg.eigh(cov_mat)"
   ]
  },
  {
   "cell_type": "code",
   "execution_count": null,
   "metadata": {},
   "outputs": [],
   "source": [
    "sorted_index = np.argsort(eigen_values)[::-1]\n",
    " \n",
    "sorted_eigenvalue = eigen_values[sorted_index]\n",
    "sorted_eigenvectors = eigen_vectors[:,sorted_index]"
   ]
  },
  {
   "cell_type": "code",
   "execution_count": null,
   "metadata": {},
   "outputs": [],
   "source": [
    "n_components = 2 #you can select any number of components.\n",
    "eigenvector_subset = sorted_eigenvectors[:,0:n_components]"
   ]
  },
  {
   "cell_type": "code",
   "execution_count": null,
   "metadata": {},
   "outputs": [],
   "source": [
    "X_reduced = np.dot(eigenvector_subset.transpose(),X_meaned.transpose()).transpose()"
   ]
  },
  {
   "cell_type": "code",
   "execution_count": null,
   "metadata": {},
   "outputs": [],
   "source": [
    "def PCA(X , num_components):\n",
    "     \n",
    "    #Step-1\n",
    "    X_meaned = X - np.mean(X , axis = 0)\n",
    "     \n",
    "    #Step-2\n",
    "    cov_mat = np.cov(X_meaned , rowvar = False)\n",
    "     \n",
    "    #Step-3\n",
    "    eigen_values , eigen_vectors = np.linalg.eigh(cov_mat)\n",
    "     \n",
    "    #Step-4\n",
    "    sorted_index = np.argsort(eigen_values)[::-1]\n",
    "    sorted_eigenvalue = eigen_values[sorted_index]\n",
    "    sorted_eigenvectors = eigen_vectors[:,sorted_index]\n",
    "     \n",
    "    #Step-5\n",
    "    eigenvector_subset = sorted_eigenvectors[:,0:num_components]\n",
    "     \n",
    "    #Step-6\n",
    "    X_reduced = np.dot(eigenvector_subset.transpose() , X_meaned.transpose() ).transpose()\n",
    "     \n",
    "    return X_reduced"
   ]
  },
  {
   "cell_type": "code",
   "execution_count": null,
   "metadata": {},
   "outputs": [],
   "source": [
    "#Applying it to PCA function\n",
    "mat_reduced = PCA(df , 2)\n",
    " \n",
    "#Creating a Pandas DataFrame of reduced Dataset\n",
    "principal_df = pd.DataFrame(mat_reduced , columns = ['PC1','PC2'])\n",
    " \n",
    "#Concat it with target variable to create a complete Dataset\n",
    "principal_df = pd.concat([principal_df] , axis = 1)"
   ]
  },
  {
   "cell_type": "raw",
   "metadata": {},
   "source": [
    "from sklearn.preprocessing import StandardScaler\n",
    " \n",
    "scale= StandardScaler()\n",
    "\n",
    "X_data = data.data\n",
    "target = data.target\n",
    " \n",
    "# standardization of dependent variables\n",
    "scaled_data = scale.fit_transform(X_data) \n",
    "print(scaled_data)"
   ]
  },
  {
   "cell_type": "code",
   "execution_count": null,
   "metadata": {},
   "outputs": [],
   "source": [
    "plt.figure(figsize = (5,5))\n",
    "sns.scatterplot(data = principal_df , x = 'PC1',y = 'PC2' , s = 60)"
   ]
  },
  {
   "cell_type": "markdown",
   "metadata": {},
   "source": [
    "### Detecting Outliers"
   ]
  },
  {
   "cell_type": "code",
   "execution_count": null,
   "metadata": {},
   "outputs": [],
   "source": [
    "data.shape"
   ]
  },
  {
   "cell_type": "code",
   "execution_count": null,
   "metadata": {},
   "outputs": [],
   "source": [
    "for col in df.columns:\n",
    "    sns.boxplot(data[col])\n",
    "    plt.show()"
   ]
  },
  {
   "cell_type": "markdown",
   "metadata": {},
   "source": [
    "#### Eliminating Outliers"
   ]
  },
  {
   "cell_type": "code",
   "execution_count": null,
   "metadata": {},
   "outputs": [],
   "source": [
    "q1 = data.quantile(0.25)\n",
    "q3 = data.quantile(0.75)\n",
    "iqr = q3 - q1\n",
    "print(iqr)"
   ]
  },
  {
   "cell_type": "code",
   "execution_count": null,
   "metadata": {},
   "outputs": [],
   "source": [
    "data = data[~((data < (q1 - 1 * iqr)) | (data > (q3 + 1 * iqr ))).any(axis=1)]\n",
    "data.shape"
   ]
  },
  {
   "cell_type": "code",
   "execution_count": null,
   "metadata": {},
   "outputs": [],
   "source": [
    "for col in df.columns:\n",
    "    sns.boxplot(data[col])\n",
    "    plt.show()"
   ]
  },
  {
   "cell_type": "markdown",
   "metadata": {},
   "source": [
    "### Histogram"
   ]
  },
  {
   "cell_type": "code",
   "execution_count": null,
   "metadata": {},
   "outputs": [],
   "source": [
    "if 'id' in data.columns:\n",
    "    x = data.drop(columns=['id'])\n",
    "elif 'Id' in data.columns:\n",
    "    x = data.drop(columns=['Id'])\n",
    "elif 'ID' in data.columns:\n",
    "    x = data.drop(columns=['ID'])\n",
    "else:\n",
    "    x = data"
   ]
  },
  {
   "cell_type": "code",
   "execution_count": null,
   "metadata": {},
   "outputs": [],
   "source": [
    "x.columns"
   ]
  },
  {
   "cell_type": "code",
   "execution_count": null,
   "metadata": {},
   "outputs": [],
   "source": [
    "for col in x.columns:\n",
    "    plt.figure(figsize=(5,3))\n",
    "    plt.hist(x[col])\n",
    "    plt.xlabel(col)\n",
    "    plt.show()"
   ]
  },
  {
   "cell_type": "markdown",
   "metadata": {},
   "source": [
    "### Scatter Plot\n",
    "\n",
    "Plotting all possible Combinations of Scatterplot Graphs "
   ]
  },
  {
   "cell_type": "code",
   "execution_count": null,
   "metadata": {},
   "outputs": [],
   "source": [
    "obj_df"
   ]
  },
  {
   "cell_type": "markdown",
   "metadata": {},
   "source": [
    "**Plotting a combined Scatterplot Graph**\n",
    "\n",
    "Using seaborn"
   ]
  },
  {
   "cell_type": "code",
   "execution_count": null,
   "metadata": {},
   "outputs": [],
   "source": [
    "#Simple Visualization without object parameters\n",
    "sns.pairplot(x)"
   ]
  },
  {
   "cell_type": "code",
   "execution_count": null,
   "metadata": {},
   "outputs": [],
   "source": [
    "#Visualization with object parameters\n",
    "#Might get stuck for datasets with large number of features or more elements in obj_df\n",
    "#i=-1\n",
    "if(len(obj_df)!=0):\n",
    "    for i in range(len(obj_df)):\n",
    "        sns.pairplot(x, hue=obj_df[i])\n",
    "        plt.show()"
   ]
  },
  {
   "cell_type": "markdown",
   "metadata": {},
   "source": [
    "**Plotting all possible combinations in different scatterplot graphs**\n",
    "\n",
    "Using Matplotlib"
   ]
  },
  {
   "cell_type": "code",
   "execution_count": null,
   "metadata": {},
   "outputs": [],
   "source": [
    "cols = df.columns\n",
    "for i in range(len(cols)):\n",
    "    j=i+1\n",
    "    for j in range(len(cols)):\n",
    "        if (i<j):\n",
    "            plt.figure(figsize=(5,3))\n",
    "            plt.scatter(data[cols[i]], data[cols[j]])\n",
    "            plt.xlabel(cols[i])\n",
    "            plt.ylabel(cols[j])\n",
    "            plt.show()"
   ]
  },
  {
   "cell_type": "markdown",
   "metadata": {},
   "source": [
    "### Saving the Processed Data\n",
    "The whole processsed data is saved the same directory with the name of \"Processed_Data.xlsx\""
   ]
  },
  {
   "cell_type": "code",
   "execution_count": null,
   "metadata": {},
   "outputs": [],
   "source": [
    "data.to_excel('processed_data.xlsx', index=False)"
   ]
  }
 ],
 "metadata": {
  "kernelspec": {
   "display_name": "Python 3",
   "language": "python",
   "name": "python3"
  },
  "language_info": {
   "codemirror_mode": {
    "name": "ipython",
    "version": 3
   },
   "file_extension": ".py",
   "mimetype": "text/x-python",
   "name": "python",
   "nbconvert_exporter": "python",
   "pygments_lexer": "ipython3",
   "version": "3.8.3"
  }
 },
 "nbformat": 4,
 "nbformat_minor": 4
}
